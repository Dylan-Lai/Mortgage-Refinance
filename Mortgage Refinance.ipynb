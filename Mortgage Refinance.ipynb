{
 "cells": [
  {
   "cell_type": "code",
   "execution_count": 1,
   "id": "685340f6",
   "metadata": {},
   "outputs": [],
   "source": [
    "import math\n",
    "import pandas as pd\n",
    "import numpy as np\n",
    "import statistics"
   ]
  },
  {
   "cell_type": "code",
   "execution_count": 25,
   "id": "042b927a",
   "metadata": {},
   "outputs": [
    {
     "data": {
      "text/plain": [
       "0.1114034576714194"
      ]
     },
     "execution_count": 25,
     "metadata": {},
     "output_type": "execute_result"
    }
   ],
   "source": [
    "principal = 500000\n",
    "rate = 0.05/12\n",
    "n = 24\n",
    "data = pd.read_csv(\"MORTGAGE30US.csv\")\n",
    "vol =statistics.stdev(data['MORTGAGE30US'])*math.sqrt(12)/100\n",
    "vol"
   ]
  },
  {
   "cell_type": "code",
   "execution_count": 16,
   "id": "2c32577e",
   "metadata": {},
   "outputs": [
    {
     "data": {
      "text/html": [
       "<div>\n",
       "<style scoped>\n",
       "    .dataframe tbody tr th:only-of-type {\n",
       "        vertical-align: middle;\n",
       "    }\n",
       "\n",
       "    .dataframe tbody tr th {\n",
       "        vertical-align: top;\n",
       "    }\n",
       "\n",
       "    .dataframe thead th {\n",
       "        text-align: right;\n",
       "    }\n",
       "</style>\n",
       "<table border=\"1\" class=\"dataframe\">\n",
       "  <thead>\n",
       "    <tr style=\"text-align: right;\">\n",
       "      <th></th>\n",
       "      <th>observation_date</th>\n",
       "      <th>MORTGAGE30US</th>\n",
       "    </tr>\n",
       "  </thead>\n",
       "  <tbody>\n",
       "    <tr>\n",
       "      <th>0</th>\n",
       "      <td>1971-04-02</td>\n",
       "      <td>7.33</td>\n",
       "    </tr>\n",
       "    <tr>\n",
       "      <th>1</th>\n",
       "      <td>1971-04-09</td>\n",
       "      <td>7.31</td>\n",
       "    </tr>\n",
       "    <tr>\n",
       "      <th>2</th>\n",
       "      <td>1971-04-16</td>\n",
       "      <td>7.31</td>\n",
       "    </tr>\n",
       "    <tr>\n",
       "      <th>3</th>\n",
       "      <td>1971-04-23</td>\n",
       "      <td>7.31</td>\n",
       "    </tr>\n",
       "    <tr>\n",
       "      <th>4</th>\n",
       "      <td>1971-04-30</td>\n",
       "      <td>7.29</td>\n",
       "    </tr>\n",
       "    <tr>\n",
       "      <th>...</th>\n",
       "      <td>...</td>\n",
       "      <td>...</td>\n",
       "    </tr>\n",
       "    <tr>\n",
       "      <th>2812</th>\n",
       "      <td>2025-02-20</td>\n",
       "      <td>6.85</td>\n",
       "    </tr>\n",
       "    <tr>\n",
       "      <th>2813</th>\n",
       "      <td>2025-02-27</td>\n",
       "      <td>6.76</td>\n",
       "    </tr>\n",
       "    <tr>\n",
       "      <th>2814</th>\n",
       "      <td>2025-03-06</td>\n",
       "      <td>6.63</td>\n",
       "    </tr>\n",
       "    <tr>\n",
       "      <th>2815</th>\n",
       "      <td>2025-03-13</td>\n",
       "      <td>6.65</td>\n",
       "    </tr>\n",
       "    <tr>\n",
       "      <th>2816</th>\n",
       "      <td>2025-03-20</td>\n",
       "      <td>6.67</td>\n",
       "    </tr>\n",
       "  </tbody>\n",
       "</table>\n",
       "<p>2817 rows × 2 columns</p>\n",
       "</div>"
      ],
      "text/plain": [
       "     observation_date  MORTGAGE30US\n",
       "0          1971-04-02          7.33\n",
       "1          1971-04-09          7.31\n",
       "2          1971-04-16          7.31\n",
       "3          1971-04-23          7.31\n",
       "4          1971-04-30          7.29\n",
       "...               ...           ...\n",
       "2812       2025-02-20          6.85\n",
       "2813       2025-02-27          6.76\n",
       "2814       2025-03-06          6.63\n",
       "2815       2025-03-13          6.65\n",
       "2816       2025-03-20          6.67\n",
       "\n",
       "[2817 rows x 2 columns]"
      ]
     },
     "execution_count": 16,
     "metadata": {},
     "output_type": "execute_result"
    }
   ],
   "source": [
    "data"
   ]
  },
  {
   "cell_type": "code",
   "execution_count": 17,
   "id": "604dd910",
   "metadata": {},
   "outputs": [
    {
     "data": {
      "text/plain": [
       "42803.74089423373"
      ]
     },
     "execution_count": 17,
     "metadata": {},
     "output_type": "execute_result"
    }
   ],
   "source": [
    "A = principal * rate * (1+rate)**n/((1+rate)**n-1)\n",
    "A"
   ]
  },
  {
   "cell_type": "code",
   "execution_count": 21,
   "id": "38b8f094",
   "metadata": {},
   "outputs": [],
   "source": [
    "#for T_10, 1 = stepsTaken, 0 = place\n",
    "#for T_(n-1)1, n-1 = stepsTaken, 1 = place\n",
    "#find root.data such that root.data = P\n",
    "\n",
    "count = 0\n",
    "class Tree:\n",
    "    def __init__(self):\n",
    "        self.left = None\n",
    "        self.right = None\n",
    "        self.data = None\n",
    "        self.parent = None\n",
    "        self.level = None\n",
    "        self.place = None\n",
    "def makeTree(steps,A,P,vol):\n",
    "    global count\n",
    "    totalcount = count\n",
    "    rates = np.ones(steps)*rate-(np.array(range(1,steps+1))*rate/100)\n",
    "    root = Tree()\n",
    "    root.level = 0\n",
    "    root.place = 0\n",
    "    while root.data == None or abs(root.data - P) >= 0.001:\n",
    "        #recursively make non Callable Tree\n",
    "        attemptTree2(steps,0,0,root,A,rates,vol)\n",
    "        diff = abs(root.data - P)\n",
    "        if diff >= 0.001:\n",
    "            rates = guessRates(steps,rates,P,root.data,root)\n",
    "        totalcount+=count\n",
    "        count = 0\n",
    "    return (root,rates)\n",
    "            \n",
    "def attemptTree(steps, stepsTaken, place, parent, A, rates, vol):    \n",
    "    nextStep = stepsTaken+1\n",
    "    global count\n",
    "    count+=1\n",
    "    \n",
    "    if stepsTaken == steps-1:\n",
    "        placeRate = (1+rates[stepsTaken]*math.exp(place*2*vol*math.sqrt(1/12)))      \n",
    "        parent.data = A/placeRate\n",
    "    else:\n",
    "        placeRate = (1+rates[nextStep]*math.exp(place*2*vol*math.sqrt(1/12)))\n",
    "        parent.left = Tree()\n",
    "        parent.right = Tree()\n",
    "        lower = parent.left\n",
    "        lower.parent = parent\n",
    "        upper = parent.right\n",
    "        upper.parent = parent\n",
    "        attemptTree(steps, nextStep, place, lower, A, rates, vol)\n",
    "        attemptTree(steps, nextStep, place+1, upper, A, rates, vol)\n",
    "        average = (lower.data+upper.data)/2\n",
    "        parent.data = 1/placeRate*(average+A)\n",
    "\n",
    "def attemptTree2(steps, stepsTaken, place, parent, A, rates, vol):\n",
    "    nextStep = stepsTaken+1\n",
    "    global count\n",
    "    count+=1\n",
    "    \n",
    "    if stepsTaken == steps-1:\n",
    "        placeRate = (1+rates[stepsTaken]*math.exp(place*2*vol*math.sqrt(1/12)))      \n",
    "        parent.data = A/placeRate\n",
    "    else:\n",
    "        placeRate = (1+rates[nextStep]*math.exp(place*2*vol*math.sqrt(1/12)))\n",
    "        parent.left = Tree()\n",
    "        lower = parent.left\n",
    "        lower.parent = parent\n",
    "        lower.level = nextStep\n",
    "        lower.place = place\n",
    "        if lower.data == None:\n",
    "            #print(f'lower T_{lower.level},{lower.place}')\n",
    "            attemptTree2(steps,nextStep,place,lower,A,rates,vol)\n",
    "            #print(f'lower T_{lower.level},{lower.place}')\n",
    "        parent.right = Tree()\n",
    "        upper = parent.right\n",
    "        upper.parent = parent\n",
    "        upper.level = nextStep\n",
    "        upper.place = place+1\n",
    "        upper.left = lower.right\n",
    "        if upper.data == None:\n",
    "            if upper.left == None or nextStep >= steps-1:\n",
    "                attemptTree2(steps, nextStep, place+1, upper, A, rates, vol)\n",
    "            else:\n",
    "                findRight(steps, nextStep, upper.left, place+1, upper, A, rates, vol)\n",
    "        \n",
    "\n",
    "        average = (lower.data+upper.data)/2\n",
    "        parent.data = 1/placeRate*(average+A)\n",
    "def findRight(steps, stepsTaken, lower, place, parent, A, rates, vol):\n",
    "    nextStep = stepsTaken+1\n",
    "    global count\n",
    "    count+=1\n",
    "    \n",
    "    if stepsTaken == steps-1:\n",
    "        placeRate = (1+rates[stepsTaken]*math.exp(place*2*vol*math.sqrt(1/12)))      \n",
    "        parent.data = A/placeRate\n",
    "    else:\n",
    "        placeRate = (1+rates[nextStep]*math.exp(place*2*vol*math.sqrt(1/12)))\n",
    "        parent.right = Tree()\n",
    "        upper = parent.right\n",
    "        upper.parent = parent\n",
    "        upper.level = nextStep\n",
    "        upper.place = place+1\n",
    "        if lower.level < steps - 1:\n",
    "            upper.left = lower.right\n",
    "        if upper.data == None:\n",
    "            if lower == None or nextStep >= steps-1:\n",
    "                attemptTree2(steps, nextStep, place+1, upper, A, rates, vol)\n",
    "            else:\n",
    "                findRight(steps, nextStep, upper.left, place+1, upper, A, rates, vol)\n",
    "        \n",
    "\n",
    "        average = (lower.data+upper.data)/2\n",
    "        parent.data = 1/placeRate*(average+A)\n",
    "def guessRates(steps,prevRates,P,base,tree):\n",
    "    #ri = ri + (T00-P)/(Ti0)*(convergenceVar)\n",
    "    target = tree\n",
    "    for step in range(1,steps):\n",
    "        target = target.left\n",
    "        diff = base - P\n",
    "        change = diff/base*prevRates[step]\n",
    "        new = prevRates[step] + change\n",
    "        prevRates[step] = new\n",
    "    return prevRates"
   ]
  },
  {
   "cell_type": "code",
   "execution_count": 26,
   "id": "08da4338",
   "metadata": {
    "scrolled": true
   },
   "outputs": [],
   "source": [
    "count = 0\n",
    "root,rates = makeTree(n,A,principal,vol)"
   ]
  },
  {
   "cell_type": "code",
   "execution_count": 27,
   "id": "f856eac2",
   "metadata": {},
   "outputs": [
    {
     "name": "stdout",
     "output_type": "stream",
     "text": [
      "500000.0008879544\n",
      "[0.004125   0.05887562 0.05827485 0.05767408 0.05707331 0.05647253\n",
      " 0.05587176 0.05527099 0.05467022 0.05406945 0.05346868 0.0528679\n",
      " 0.05226713 0.05166636 0.05106559 0.05046482 0.04986405 0.04926327\n",
      " 0.0486625  0.04806173 0.04746096 0.04686019 0.04625942 0.04565864]\n"
     ]
    }
   ],
   "source": [
    "print(root.data)\n",
    "print(rates)"
   ]
  },
  {
   "cell_type": "code",
   "execution_count": 24,
   "id": "26b33808",
   "metadata": {},
   "outputs": [
    {
     "name": "stdout",
     "output_type": "stream",
     "text": [
      "459483.7579479832 \t 458743.6746078125\n",
      "418727.99355391855 \t 418120.2432448783\n",
      "377742.236315731 \t 377252.30033428594\n",
      "336535.82601616735 \t 336149.694175981\n",
      "295117.91066149296 \t 294822.079040106\n",
      "253497.44582381973 \t 253278.91375828526\n",
      "211683.19436396277 \t 211529.46075573587\n",
      "169683.72650752804 \t 169582.78549422164\n",
      "127507.42024807112 \t 127447.75629701708\n",
      "85162.46205230885 \t 85133.04452820338\n",
      "42656.847843501244 \t 42647.12509978997\n"
     ]
    }
   ],
   "source": [
    "parent = root.left\n",
    "for i in range(n-1):\n",
    "    print(parent.data,'\\t',parent.parent.right.data)\n",
    "    parent = parent.left"
   ]
  },
  {
   "cell_type": "code",
   "execution_count": 9,
   "id": "eea76685",
   "metadata": {},
   "outputs": [],
   "source": [
    "def oldPV(steps,A,P,rate):\n",
    "    leftover = P\n",
    "    balances = [P]\n",
    "    PVs = []\n",
    "    for step in range(1,steps):\n",
    "        interest = leftover * rate\n",
    "        paid = A - interest\n",
    "        leftover = leftover - paid \n",
    "        balances.append(leftover)\n",
    "        PV = interest/(1+rate)**step\n",
    "        PVs.append(PV)\n",
    "    return (PVs,balances)\n",
    "\n",
    "def refinancePV(steps,start,balance,rates):\n",
    "    rate = rates[start-1]\n",
    "    n = steps - start + 1\n",
    "    A = balance * rate * (1+rate)**n/((1+rate)**n-1)\n",
    "    total = 0\n",
    "    leftover = balance\n",
    "    for step in range(start,steps):\n",
    "        interest = leftover * rate\n",
    "        paid = A - interest\n",
    "        leftover = leftover - paid\n",
    "        total += interest/(1+rate)\n",
    "    return total"
   ]
  },
  {
   "cell_type": "code",
   "execution_count": 10,
   "id": "2082d2b2",
   "metadata": {},
   "outputs": [
    {
     "name": "stdout",
     "output_type": "stream",
     "text": [
      "[500000, 459279.5924390996, 418389.5165133621, 377329.0652712674, 336097.52881566394, 294694.1942914955, 253118.34587347633, 211369.26475371543, 169446.22912928884, 127348.51418976049, 85075.39210465076, 42626.13201085308]\n",
      "42803.74089423373\n",
      "Refinance at Month 1 refiSavings:  2691.7570293303907\n",
      "Refinance at Month 2 refiSavings:  2493.1966144972685\n",
      "Refinance at Month 3 refiSavings:  2274.3969219920964\n",
      "Refinance at Month 4 refiSavings:  2039.8553202866215\n",
      "Refinance at Month 5 refiSavings:  1794.0850495132936\n",
      "Refinance at Month 6 refiSavings:  1541.616124357954\n",
      "Refinance at Month 7 refiSavings:  1286.9962489788845\n",
      "Refinance at Month 8 refiSavings:  1034.7917440001484\n",
      "Refinance at Month 9 refiSavings:  789.5884856320415\n",
      "Refinance at Month 10 refiSavings:  555.9928569743391\n",
      "Refinance at Month 11 refiSavings:  338.63271156280445\n"
     ]
    }
   ],
   "source": [
    "PVs, balances = oldPV(n,A,principal,rate)\n",
    "print(balances)\n",
    "print(A)\n",
    "for i in range(len(PVs)):\n",
    "    PVrefi = refinancePV(n,i+2,balances[i+1],rates)\n",
    "    print(f\"Refinance at Month {i+1} refiSavings: \",sum(PVs[i:])-PVrefi)"
   ]
  },
  {
   "cell_type": "code",
   "execution_count": 11,
   "id": "a20da868",
   "metadata": {},
   "outputs": [
    {
     "name": "stdout",
     "output_type": "stream",
     "text": [
      "[1.         0.25       0.11111111 0.0625     0.04       0.02777778\n",
      " 0.02040816 0.015625   0.01234568 0.01       0.00826446 0.00694444]\n"
     ]
    }
   ],
   "source": [
    "print((np.ones(n)/(np.array(range(1,13)))**2))"
   ]
  },
  {
   "cell_type": "code",
   "execution_count": null,
   "id": "ced0dd99",
   "metadata": {},
   "outputs": [],
   "source": []
  }
 ],
 "metadata": {
  "kernelspec": {
   "display_name": "Python 3 (ipykernel)",
   "language": "python",
   "name": "python3"
  },
  "language_info": {
   "codemirror_mode": {
    "name": "ipython",
    "version": 3
   },
   "file_extension": ".py",
   "mimetype": "text/x-python",
   "name": "python",
   "nbconvert_exporter": "python",
   "pygments_lexer": "ipython3",
   "version": "3.11.5"
  }
 },
 "nbformat": 4,
 "nbformat_minor": 5
}
